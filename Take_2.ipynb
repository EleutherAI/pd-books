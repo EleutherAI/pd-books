{
 "cells": [
  {
   "cell_type": "code",
   "id": "initial_id",
   "metadata": {
    "collapsed": true,
    "ExecuteTime": {
     "end_time": "2024-03-07T20:34:03.342331Z",
     "start_time": "2024-03-07T20:34:02.441353Z"
    }
   },
   "source": [
    "import datasets\n",
    "import polars as pl\n",
    "from datetime import datetime\n",
    "\n",
    "import pandas as pd"
   ],
   "outputs": [],
   "execution_count": 1
  },
  {
   "cell_type": "markdown",
   "id": "16f7ccf6e694b72b",
   "metadata": {
    "collapsed": false
   },
   "source": [
    "The datasets been generated using this [fork](https://github.com/baberabb/cce-python). The main logic is\n",
    "for each registration and each matching renewal entry:\n",
    "\n",
    "    1. check if date matches -> exact match\n",
    "        2. if not then check if year matches\n",
    "            3. if not then check if the normalized authors/title match\n"
   ]
  },
  {
   "cell_type": "code",
   "id": "224f7f5808d529d4",
   "metadata": {
    "collapsed": false,
    "ExecuteTime": {
     "end_time": "2024-03-07T20:34:29.229569Z",
     "start_time": "2024-03-07T20:34:03.343388Z"
    }
   },
   "source": [
    "renewals_unmatched = datasets.load_dataset(\"baber/pdbooks\", \"renewals_unmatched\")[\n",
    "    \"train\"\n",
    "].to_pandas()\n",
    "renewals_matched = datasets.load_dataset(\"baber/pdbooks\", \"renewals_matched\")[\n",
    "    \"train\"\n",
    "].to_pandas()\n",
    "registrations_all = datasets.load_dataset(\"baber/pdbooks\", \"registrations_all\")[\n",
    "    \"train\"\n",
    "].to_pandas()\n",
    "registrations_unmatched = datasets.load_dataset(\n",
    "    \"baber/pdbooks\", \"registrations_not_renewed\"\n",
    ")[\"train\"].to_pandas()"
   ],
   "outputs": [],
   "execution_count": 2
  },
  {
   "cell_type": "markdown",
   "id": "63e79ef9567a57c5",
   "metadata": {},
   "source": "We'll use polars, but it's interchangeable with pandas with .to_pandas()"
  },
  {
   "cell_type": "code",
   "id": "9cb8562f25e4dc17",
   "metadata": {
    "ExecuteTime": {
     "end_time": "2024-03-07T20:34:33.128083Z",
     "start_time": "2024-03-07T20:34:29.231115Z"
    }
   },
   "source": [
    "ren_unmatched = pl.from_pandas(renewals_unmatched)\n",
    "ren_matched = pl.from_pandas(renewals_matched)\n",
    "reg_all = pl.from_pandas(registrations_all)\n",
    "reg_unmatched = pl.from_pandas(registrations_unmatched)\n",
    "\n",
    "print(f\"Total renewals unmatched: {len(ren_unmatched)}\")\n",
    "print(f\"Total registrations remaining: {len(reg_unmatched)}\")"
   ],
   "outputs": [
    {
     "name": "stdout",
     "output_type": "stream",
     "text": [
      "Total renewals unmatched: 264080\n",
      "Total registrations remaining: 560350\n"
     ]
    }
   ],
   "execution_count": 3
  },
  {
   "cell_type": "markdown",
   "id": "8828512915dfa468",
   "metadata": {},
   "source": "These are alot of unmatched renewals but these include non-book entries as well. Sub-setting just the registration numbers we have in the reg dataset and filtering the dates we get ~8000 matched numbers with _all_ registrations and ~4000 with the registrations remaining (unmatched, not foreign, etc.). Looking at all registrations:"
  },
  {
   "cell_type": "code",
   "id": "6ac253e0d83e1023",
   "metadata": {
    "ExecuteTime": {
     "end_time": "2024-03-07T20:34:33.134863Z",
     "start_time": "2024-03-07T20:34:33.129377Z"
    }
   },
   "source": [
    "ren_unmat = (\n",
    "    ren_unmatched.lazy()\n",
    "    .explode(\"regnum\")\n",
    "    .explode(\"reg_date\")\n",
    "    .with_columns(pl.col(\"reg_date\").str.to_date(strict=False, exact=False))\n",
    "    .filter(\n",
    "        pl.col(\"reg_date\").is_between(\n",
    "            datetime(1929, 0o1, 0o1), datetime(1964, 0o1, 0o1)\n",
    "        )\n",
    "        | pl.col(\"reg_date\").is_null()\n",
    "    )\n",
    "    .join(\n",
    "        reg_all.lazy().explode(\"regnums\"),\n",
    "        how=\"semi\",\n",
    "        left_on=\"regnum\",\n",
    "        right_on=\"regnums\",\n",
    "    )\n",
    ").filter(pl.col(\"regnum\").str.starts_with(\"A\"))"
   ],
   "outputs": [],
   "execution_count": 4
  },
  {
   "metadata": {},
   "cell_type": "markdown",
   "source": "The renewal entries have been \"unrolled\" where there's a seperate row for each reg number in the entry. Also I might have introduced a bug somewhere as there are alot of duplicates. We can count by looking at the uuid though. ",
   "id": "c4974e3d2426b157"
  },
  {
   "cell_type": "code",
   "id": "39d95375154362eb",
   "metadata": {
    "ExecuteTime": {
     "end_time": "2024-03-07T20:34:33.338727Z",
     "start_time": "2024-03-07T20:34:33.136989Z"
    }
   },
   "source": [
    "ren_unmat.unique(\"uuid\").group_by([pl.col(\"reg_date\").dt.year()]).len().sort(\n",
    "    \"len\", descending=True\n",
    ").collect()"
   ],
   "outputs": [
    {
     "data": {
      "text/plain": [
       "shape: (36, 2)\n",
       "┌──────────┬──────┐\n",
       "│ reg_date ┆ len  │\n",
       "│ ---      ┆ ---  │\n",
       "│ i32      ┆ u32  │\n",
       "╞══════════╪══════╡\n",
       "│ 1953     ┆ 1119 │\n",
       "│ 1952     ┆ 568  │\n",
       "│ 1947     ┆ 466  │\n",
       "│ 1946     ┆ 383  │\n",
       "│ 1950     ┆ 357  │\n",
       "│ …        ┆ …    │\n",
       "│ 1958     ┆ 87   │\n",
       "│ 1961     ┆ 79   │\n",
       "│ 1960     ┆ 69   │\n",
       "│ 1959     ┆ 67   │\n",
       "│ null     ┆ 7    │\n",
       "└──────────┴──────┘"
      ],
      "text/html": [
       "<div><style>\n",
       ".dataframe > thead > tr,\n",
       ".dataframe > tbody > tr {\n",
       "  text-align: right;\n",
       "  white-space: pre-wrap;\n",
       "}\n",
       "</style>\n",
       "<small>shape: (36, 2)</small><table border=\"1\" class=\"dataframe\"><thead><tr><th>reg_date</th><th>len</th></tr><tr><td>i32</td><td>u32</td></tr></thead><tbody><tr><td>1953</td><td>1119</td></tr><tr><td>1952</td><td>568</td></tr><tr><td>1947</td><td>466</td></tr><tr><td>1946</td><td>383</td></tr><tr><td>1950</td><td>357</td></tr><tr><td>&hellip;</td><td>&hellip;</td></tr><tr><td>1958</td><td>87</td></tr><tr><td>1961</td><td>79</td></tr><tr><td>1960</td><td>69</td></tr><tr><td>1959</td><td>67</td></tr><tr><td>null</td><td>7</td></tr></tbody></table></div>"
      ]
     },
     "execution_count": 5,
     "metadata": {},
     "output_type": "execute_result"
    }
   ],
   "execution_count": 5
  },
  {
   "cell_type": "markdown",
   "id": "2b73e2023ece3928",
   "metadata": {},
   "source": "Alot of these entries aren't really books"
  },
  {
   "metadata": {
    "ExecuteTime": {
     "end_time": "2024-03-07T20:34:33.471993Z",
     "start_time": "2024-03-07T20:34:33.339463Z"
    }
   },
   "cell_type": "code",
   "source": "ren_unmat.unique(\"uuid\").group_by(\"author\").len().sort(\"len\", descending=True).collect()",
   "id": "d5f2ea7bd1132271",
   "outputs": [
    {
     "data": {
      "text/plain": [
       "shape: (2_840, 2)\n",
       "┌───────────────────────────────┬──────┐\n",
       "│ author                        ┆ len  │\n",
       "│ ---                           ┆ ---  │\n",
       "│ str                           ┆ u32  │\n",
       "╞═══════════════════════════════╪══════╡\n",
       "│ null                          ┆ 3113 │\n",
       "│                               ┆ 288  │\n",
       "│ King Features Syndicate, Inc. ┆ 171  │\n",
       "│ West Publishing Company       ┆ 168  │\n",
       "│ New York Times Co.            ┆ 136  │\n",
       "│ …                             ┆ …    │\n",
       "│ CARPENTER, WILLIAM SEAL.      ┆ 1    │\n",
       "│ BUCK, PEARL S.                ┆ 1    │\n",
       "│ Patrick Kavanagh.             ┆ 1    │\n",
       "│ Case Kusby (Kuczborski)       ┆ 1    │\n",
       "│ VINCENTELLI, JOSEPH.          ┆ 1    │\n",
       "└───────────────────────────────┴──────┘"
      ],
      "text/html": [
       "<div><style>\n",
       ".dataframe > thead > tr,\n",
       ".dataframe > tbody > tr {\n",
       "  text-align: right;\n",
       "  white-space: pre-wrap;\n",
       "}\n",
       "</style>\n",
       "<small>shape: (2_840, 2)</small><table border=\"1\" class=\"dataframe\"><thead><tr><th>author</th><th>len</th></tr><tr><td>str</td><td>u32</td></tr></thead><tbody><tr><td>null</td><td>3113</td></tr><tr><td>&quot;&quot;</td><td>288</td></tr><tr><td>&quot;King Features …</td><td>171</td></tr><tr><td>&quot;West Publishin…</td><td>168</td></tr><tr><td>&quot;New York Times…</td><td>136</td></tr><tr><td>&hellip;</td><td>&hellip;</td></tr><tr><td>&quot;CARPENTER, WIL…</td><td>1</td></tr><tr><td>&quot;BUCK, PEARL S.…</td><td>1</td></tr><tr><td>&quot;Patrick Kavana…</td><td>1</td></tr><tr><td>&quot;Case Kusby (Ku…</td><td>1</td></tr><tr><td>&quot;VINCENTELLI, J…</td><td>1</td></tr></tbody></table></div>"
      ]
     },
     "execution_count": 6,
     "metadata": {},
     "output_type": "execute_result"
    }
   ],
   "execution_count": 6
  },
  {
   "metadata": {},
   "cell_type": "markdown",
   "source": "Some manual filtering. This reduces around ~2000 entries",
   "id": "fa85f0f4aa0e35ba"
  },
  {
   "cell_type": "code",
   "id": "fb1e42c43716bf3c",
   "metadata": {
    "ExecuteTime": {
     "end_time": "2024-03-07T20:34:34.975171Z",
     "start_time": "2024-03-07T20:34:33.473216Z"
    }
   },
   "source": [
    "ren_unmat.filter(\n",
    "    pl.col(\"full_text\").str.contains(\n",
    "        \"(?i)(superman|batman|vogue|hopalong|tarzan|king features|donald|mickey|new york times|vernon law|king aroo)\" \n",
    "    ).not_() & pl.col(\"title\").str.contains(\n",
    "        \"(?i)superman|batman|vogue|hopalong|tarzan|king features|donald|mickey|new york times|catalog|king aroo|nea\" \n",
    "    ).not_()\n",
    ").filter(~pl.col(\"regnum\").str.contains(\"^(AF|AI)\")).unique(\"uuid\").collect()"
   ],
   "outputs": [
    {
     "data": {
      "text/plain": [
       "shape: (6_151, 13)\n",
       "┌────────────┬─────────┬────────────┬────────────┬───┬────────────┬────────────┬───────────┬───────┐\n",
       "│ uuid       ┆ regnum  ┆ reg_date   ┆ renewal_id ┆ … ┆ see_also_r ┆ full_text  ┆ claimants ┆ notes │\n",
       "│ ---        ┆ ---     ┆ ---        ┆ ---        ┆   ┆ egistratio ┆ ---        ┆ ---       ┆ ---   │\n",
       "│ str        ┆ str     ┆ date       ┆ str        ┆   ┆ n          ┆ str        ┆ str       ┆ str   │\n",
       "│            ┆         ┆            ┆            ┆   ┆ ---        ┆            ┆           ┆       │\n",
       "│            ┆         ┆            ┆            ┆   ┆ list[null] ┆            ┆           ┆       │\n",
       "╞════════════╪═════════╪════════════╪════════════╪═══╪════════════╪════════════╪═══════════╪═══════╡\n",
       "│ 269a88a8-d ┆ A75399  ┆ 1953-01-09 ┆ RE106224   ┆ … ┆ []         ┆            ┆ Ralph M.  ┆ null  │\n",
       "│ b6f-6d61-a ┆         ┆            ┆            ┆   ┆            ┆            ┆ Barnes|A  ┆       │\n",
       "│ 346-471493 ┆         ┆            ┆            ┆   ┆            ┆            ┆           ┆       │\n",
       "│ 2c…        ┆         ┆            ┆            ┆   ┆            ┆            ┆           ┆       │\n",
       "│ 70da36c0-5 ┆ A87060  ┆ 1953-04-06 ┆ RE99253    ┆ … ┆ []         ┆            ┆ West Publ ┆ null  │\n",
       "│ dc3-0abd-2 ┆         ┆            ┆            ┆   ┆            ┆            ┆ ishing    ┆       │\n",
       "│ 234-c4ff66 ┆         ┆            ┆            ┆   ┆            ┆            ┆ Company|P ┆       │\n",
       "│ c5…        ┆         ┆            ┆            ┆   ┆            ┆            ┆ WH        ┆       │\n",
       "│ 06b8e2b2-a ┆ A44     ┆ 1944-06-30 ┆ R510267    ┆ … ┆ []         ┆ ABBOTT NEW ┆ West Pub. ┆       │\n",
       "│ 571-583e-b ┆         ┆            ┆            ┆   ┆            ┆ YORK       ┆ Co. &     ┆       │\n",
       "│ e23-d3efed ┆         ┆            ┆            ┆   ┆            ┆ DIGEST,    ┆ Lawyers   ┆       │\n",
       "│ 53…        ┆         ┆            ┆            ┆   ┆            ┆ CONSOLID…  ┆ Co-opera… ┆       │\n",
       "│ 47951365-0 ┆ A19159  ┆ 1947-11-15 ┆ R597997    ┆ … ┆ []         ┆ R597997.   ┆ Herald    ┆       │\n",
       "│ f82-51fe-a ┆         ┆            ┆            ┆   ┆            ┆ Junior     ┆ Press|PWH ┆       │\n",
       "│ 74e-e14492 ┆         ┆            ┆            ┆   ┆            ┆ hymns.     ┆ Herald    ┆       │\n",
       "│ 30…        ┆         ┆            ┆            ┆   ┆            ┆ Editor: W… ┆ Press     ┆       │\n",
       "│            ┆         ┆            ┆            ┆   ┆            ┆            ┆ (PW…      ┆       │\n",
       "│ 6285349f-1 ┆ A678282 ┆ 1950-11-07 ┆ R678282    ┆ … ┆ []         ┆ R678282.   ┆ Walt      ┆       │\n",
       "│ ad1-5df7-8 ┆         ┆            ┆            ┆   ┆            ┆ Uncle      ┆ Disney    ┆       │\n",
       "│ 782-92ea7d ┆         ┆            ┆            ┆   ┆            ┆ Remus,     ┆ Productio ┆       │\n",
       "│ 09…        ┆         ┆            ┆            ┆   ┆            ┆ November   ┆ ns|PWH5De ┆       │\n",
       "│            ┆         ┆            ┆            ┆   ┆            ┆ 1…         ┆ c7…       ┆       │\n",
       "│ …          ┆ …       ┆ …          ┆ …          ┆ … ┆ …          ┆ …          ┆ …         ┆ …     │\n",
       "│ fc78301f-5 ┆ A73635  ┆ 1934-07-17 ┆ R288087    ┆ … ┆ []         ┆ CROCKETT,  ┆ Bobbs-Mer ┆       │\n",
       "│ 05e-5ecc-a ┆         ┆            ┆            ┆   ┆            ┆ DANIEL W.  ┆ rill Co., ┆       │\n",
       "│ 79a-519d45 ┆         ┆            ┆            ┆   ┆            ┆ Indiana    ┆ Inc.|PWH  ┆       │\n",
       "│ 16…        ┆         ┆            ┆            ┆   ┆            ┆ thre…      ┆           ┆       │\n",
       "│ 95666c4a-7 ┆ A22431  ┆ 1930-04-24 ┆ R206830    ┆ … ┆ []         ┆ WARD, C.   ┆ Scott,    ┆       │\n",
       "│ 7ca-5f20-a ┆         ┆            ┆            ┆   ┆            ┆ H. Manual  ┆ Foresman  ┆       │\n",
       "│ 1dc-a4d4fe ┆         ┆            ┆            ┆   ┆            ┆ for M. O.  ┆ & Co.|PWH ┆       │\n",
       "│ 87…        ┆         ┆            ┆            ┆   ┆            ┆ S. …       ┆           ┆       │\n",
       "│ a3035462-1 ┆ A846262 ┆ 1960-06-21 ┆ RE412584   ┆ … ┆ []         ┆            ┆ Barbara   ┆ null  │\n",
       "│ 8e9-d050-5 ┆         ┆            ┆            ┆   ┆            ┆            ┆ Heimer|W  ┆       │\n",
       "│ 8a1-ca6eb9 ┆         ┆            ┆            ┆   ┆            ┆            ┆           ┆       │\n",
       "│ 6c…        ┆         ┆            ┆            ┆   ┆            ┆            ┆           ┆       │\n",
       "│ 74687694-e ┆ A168502 ┆ 1942-10-30 ┆ R491846    ┆ … ┆ []         ┆ THE BEST   ┆ Dodd,     ┆       │\n",
       "│ d51-5ec4-8 ┆         ┆            ┆            ┆   ┆            ┆ PLAYS OF   ┆ Mead &    ┆       │\n",
       "│ aef-55402b ┆         ┆            ┆            ┆   ┆            ┆ 1941-42,   ┆ Co., Inc. ┆       │\n",
       "│ f9…        ┆         ┆            ┆            ┆   ┆            ┆ AND T…     ┆ |PWH(PWH) ┆       │\n",
       "│ 5f5cfc58-c ┆ A89782  ┆ 1953-02-03 ┆ RE98848    ┆ … ┆ []         ┆            ┆ Walt      ┆ null  │\n",
       "│ 1fc-0a77-9 ┆         ┆            ┆            ┆   ┆            ┆            ┆ Disney    ┆       │\n",
       "│ 655-a22034 ┆         ┆            ┆            ┆   ┆            ┆            ┆ Productio ┆       │\n",
       "│ d8…        ┆         ┆            ┆            ┆   ┆            ┆            ┆ ns|PWH    ┆       │\n",
       "└────────────┴─────────┴────────────┴────────────┴───┴────────────┴────────────┴───────────┴───────┘"
      ],
      "text/html": [
       "<div><style>\n",
       ".dataframe > thead > tr,\n",
       ".dataframe > tbody > tr {\n",
       "  text-align: right;\n",
       "  white-space: pre-wrap;\n",
       "}\n",
       "</style>\n",
       "<small>shape: (6_151, 13)</small><table border=\"1\" class=\"dataframe\"><thead><tr><th>uuid</th><th>regnum</th><th>reg_date</th><th>renewal_id</th><th>renewal_date</th><th>author</th><th>title</th><th>new_matter</th><th>see_also_renewal</th><th>see_also_registration</th><th>full_text</th><th>claimants</th><th>notes</th></tr><tr><td>str</td><td>str</td><td>date</td><td>str</td><td>str</td><td>str</td><td>str</td><td>str</td><td>list[null]</td><td>list[null]</td><td>str</td><td>str</td><td>str</td></tr></thead><tbody><tr><td>&quot;269a88a8-db6f-…</td><td>&quot;A75399&quot;</td><td>1953-01-09</td><td>&quot;RE106224&quot;</td><td>null</td><td>null</td><td>&quot;Motion and tim…</td><td>&quot;&quot;</td><td>[]</td><td>[]</td><td>&quot;&quot;</td><td>&quot;Ralph M. Barne…</td><td>null</td></tr><tr><td>&quot;70da36c0-5dc3-…</td><td>&quot;A87060&quot;</td><td>1953-04-06</td><td>&quot;RE99253&quot;</td><td>null</td><td>null</td><td>&quot;California rep…</td><td>&quot;&quot;</td><td>[]</td><td>[]</td><td>&quot;&quot;</td><td>&quot;West Publishin…</td><td>null</td></tr><tr><td>&quot;06b8e2b2-a571-…</td><td>&quot;A44&quot;</td><td>1944-06-30</td><td>&quot;R510267&quot;</td><td>&quot;1971-08-12&quot;</td><td>&quot;West Pub. Co. …</td><td>&quot;ABBOTT NEW YOR…</td><td>&quot;&quot;</td><td>[]</td><td>[]</td><td>&quot;ABBOTT NEW YOR…</td><td>&quot;West Pub. Co. …</td><td>&quot;&quot;</td></tr><tr><td>&quot;47951365-0f82-…</td><td>&quot;A19159&quot;</td><td>1947-11-15</td><td>&quot;R597997&quot;</td><td>&quot;1975-02-19&quot;</td><td>&quot;Walter Eli Yod…</td><td>&quot;Junior hymns&quot;</td><td>&quot;&quot;</td><td>[]</td><td>[]</td><td>&quot;R597997. Junio…</td><td>&quot;Herald Press|P…</td><td>&quot;&quot;</td></tr><tr><td>&quot;6285349f-1ad1-…</td><td>&quot;A678282&quot;</td><td>1950-11-07</td><td>&quot;R678282&quot;</td><td>&quot;1977-12-05&quot;</td><td>&quot;Walt Disney Pr…</td><td>&quot;November 19, 1…</td><td>&quot;&quot;</td><td>[]</td><td>[]</td><td>&quot;R678282. Uncle…</td><td>&quot;Walt Disney Pr…</td><td>&quot;&quot;</td></tr><tr><td>&hellip;</td><td>&hellip;</td><td>&hellip;</td><td>&hellip;</td><td>&hellip;</td><td>&hellip;</td><td>&hellip;</td><td>&hellip;</td><td>&hellip;</td><td>&hellip;</td><td>&hellip;</td><td>&hellip;</td><td>&hellip;</td></tr><tr><td>&quot;fc78301f-505e-…</td><td>&quot;A73635&quot;</td><td>1934-07-17</td><td>&quot;R288087&quot;</td><td>&quot;1961-12-28&quot;</td><td>&quot;CROCKETT, DANI…</td><td>&quot;Indiana three …</td><td>&quot;&quot;annotations t…</td><td>[]</td><td>[]</td><td>&quot;CROCKETT, DANI…</td><td>&quot;Bobbs-Merrill …</td><td>&quot;&quot;</td></tr><tr><td>&quot;95666c4a-77ca-…</td><td>&quot;A22431&quot;</td><td>1930-04-24</td><td>&quot;R206830&quot;</td><td>&quot;1958-01-14&quot;</td><td>&quot;WARD, C. H.&quot;</td><td>&quot;Manual for M. …</td><td>&quot;&quot;</td><td>[]</td><td>[]</td><td>&quot;WARD, C. H. Ma…</td><td>&quot;Scott, Foresma…</td><td>&quot;&quot;</td></tr><tr><td>&quot;a3035462-18e9-…</td><td>&quot;A846262&quot;</td><td>1960-06-21</td><td>&quot;RE412584&quot;</td><td>null</td><td>null</td><td>&quot;Once in a smal…</td><td>&quot;&quot;</td><td>[]</td><td>[]</td><td>&quot;&quot;</td><td>&quot;Barbara Heimer…</td><td>null</td></tr><tr><td>&quot;74687694-ed51-…</td><td>&quot;A168502&quot;</td><td>1942-10-30</td><td>&quot;R491846&quot;</td><td>&quot;1970-10-02&quot;</td><td>&quot;Dodd, Mead &amp; C…</td><td>&quot;THE BEST PLAYS…</td><td>&quot;&quot;</td><td>[]</td><td>[]</td><td>&quot;THE BEST PLAYS…</td><td>&quot;Dodd, Mead &amp; C…</td><td>&quot;&quot;</td></tr><tr><td>&quot;5f5cfc58-c1fc-…</td><td>&quot;A89782&quot;</td><td>1953-02-03</td><td>&quot;RE98848&quot;</td><td>null</td><td>null</td><td>&quot;Uncle Remus.  …</td><td>&quot;&quot;</td><td>[]</td><td>[]</td><td>&quot;&quot;</td><td>&quot;Walt Disney Pr…</td><td>null</td></tr></tbody></table></div>"
      ]
     },
     "execution_count": 7,
     "metadata": {},
     "output_type": "execute_result"
    }
   ],
   "execution_count": 7
  },
  {
   "metadata": {},
   "cell_type": "markdown",
   "source": "These are also in the registrations (~800), but most of them have been bulk registered at one time. We can filter for that:",
   "id": "74330fc74c333be4"
  },
  {
   "metadata": {
    "ExecuteTime": {
     "end_time": "2024-03-07T20:34:35.037180Z",
     "start_time": "2024-03-07T20:34:34.976647Z"
    }
   },
   "cell_type": "code",
   "source": [
    "reg_unmatched.lazy().filter(pl.col(\"title\").str.contains(\n",
    "        \"(?i)(superman|batman|vogue|hopalong|tarzan|king features|donald duck|mickey mouse|new york times|vernon law|king aroo)\" \n",
    "    )\n",
    "    ).collect().filter(pl.col(\"parent\").is_null())"
   ],
   "id": "be119ca1f7f24374",
   "outputs": [
    {
     "data": {
      "text/plain": [
       "shape: (87, 12)\n",
       "┌────────────┬────────────┬───────────┬───────────┬───┬───────────┬───────────┬───────────┬────────┐\n",
       "│ uuid       ┆ regnums    ┆ reg_dates ┆ title     ┆ … ┆ group_tit ┆ group_uui ┆ notes     ┆ parent │\n",
       "│ ---        ┆ ---        ┆ ---       ┆ ---       ┆   ┆ le        ┆ d         ┆ ---       ┆ ---    │\n",
       "│ str        ┆ list[str]  ┆ list[str] ┆ str       ┆   ┆ ---       ┆ ---       ┆ list[str] ┆ str    │\n",
       "│            ┆            ┆           ┆           ┆   ┆ str       ┆ str       ┆           ┆        │\n",
       "╞════════════╪════════════╪═══════════╪═══════════╪═══╪═══════════╪═══════════╪═══════════╪════════╡\n",
       "│ F58A1371-7 ┆ [\"A180056\" ┆ [\"1943-06 ┆ Style     ┆ … ┆           ┆           ┆ null      ┆ null   │\n",
       "│ 454-1014-B ┆ ]          ┆ -09\"]     ┆ book of   ┆   ┆           ┆           ┆           ┆        │\n",
       "│ DF7-E78324 ┆            ┆           ┆ the New   ┆   ┆           ┆           ┆           ┆        │\n",
       "│ 32…        ┆            ┆           ┆ York      ┆   ┆           ┆           ┆           ┆        │\n",
       "│            ┆            ┆           ┆ times…    ┆   ┆           ┆           ┆           ┆        │\n",
       "│ 7FB177C1-6 ┆ [\"A168596\" ┆ [\"1942-11 ┆ Superman. ┆ … ┆           ┆           ┆ null      ┆ null   │\n",
       "│ E18-1014-9 ┆ ]          ┆ -02\"]     ┆           ┆   ┆           ┆           ┆           ┆        │\n",
       "│ 400-B66492 ┆            ┆           ┆           ┆   ┆           ┆           ┆           ┆        │\n",
       "│ 22…        ┆            ┆           ┆           ┆   ┆           ┆           ┆           ┆        │\n",
       "│ 97656587-6 ┆ [\"A8019\"]  ┆ [\"1929-05 ┆ Vogue’s   ┆ … ┆           ┆           ┆ null      ┆ null   │\n",
       "│ CFA-1014-9 ┆            ┆ -03\"]     ┆ book of   ┆   ┆           ┆           ┆           ┆        │\n",
       "│ C3C-CEA95E ┆            ┆           ┆ brides,   ┆   ┆           ┆           ┆           ┆        │\n",
       "│ 7A…        ┆            ┆           ┆ by the a… ┆   ┆           ┆           ┆           ┆        │\n",
       "│ A50C3D52-6 ┆ [\"A12694\"] ┆ [\"1929-09 ┆ Tarzan    ┆ … ┆           ┆           ┆ null      ┆ null   │\n",
       "│ CFA-1014-9 ┆            ┆ -28\"]     ┆ and the   ┆   ┆           ┆           ┆           ┆        │\n",
       "│ C3C-CEA95E ┆            ┆           ┆ lost      ┆   ┆           ┆           ┆           ┆        │\n",
       "│ 7A…        ┆            ┆           ┆ empire    ┆   ┆           ┆           ┆           ┆        │\n",
       "│ A63FF405-6 ┆ [\"A10771\"] ┆ [\"1929-08 ┆ The illus ┆ … ┆           ┆           ┆ [\"no. 1,  ┆ null   │\n",
       "│ CFA-1014-9 ┆            ┆ -10\"]     ┆ trated    ┆   ┆           ┆           ┆ picturize ┆        │\n",
       "│ C3C-CEA95E ┆            ┆           ┆ Tarzan    ┆   ┆           ┆           ┆ d from    ┆        │\n",
       "│ 7A…        ┆            ┆           ┆ books     ┆   ┆           ┆           ┆ the nov…  ┆        │\n",
       "│ …          ┆ …          ┆ …         ┆ …         ┆ … ┆ …         ┆ …         ┆ …         ┆ …      │\n",
       "│ B01231AB-6 ┆ [\"A602465\" ┆ [\"1962-12 ┆ VERNON    ┆ … ┆           ┆           ┆ [\"in 29\", ┆ null   │\n",
       "│ D13-1014-B ┆ ]          ┆ -12\"]     ┆ LAW BOOK  ┆   ┆           ┆           ┆ \"employer ┆        │\n",
       "│ 63C-9736EB ┆            ┆           ┆ CO.       ┆   ┆           ┆           ┆ s for     ┆        │\n",
       "│ 68…        ┆            ┆           ┆           ┆   ┆           ┆           ┆ hire\"]    ┆        │\n",
       "│ DC51F471-6 ┆ [\"A600557\" ┆ [\"1962-11 ┆ Growing   ┆ … ┆           ┆           ┆ null      ┆ null   │\n",
       "│ D13-1014-B ┆ ]          ┆ -23\"]     ┆ crisis    ┆   ┆           ┆           ┆           ┆        │\n",
       "│ 63C-9736EB ┆            ┆           ┆ for the   ┆   ┆           ┆           ┆           ┆        │\n",
       "│ 68…        ┆            ┆           ┆ cities;   ┆   ┆           ┆           ┆           ┆        │\n",
       "│            ┆            ┆           ┆ a…        ┆   ┆           ┆           ┆           ┆        │\n",
       "│ 04848F74-6 ┆ [\"A572608\" ┆ [\"1962-04 ┆ SUPERMAN. ┆ … ┆           ┆           ┆ null      ┆ null   │\n",
       "│ D14-1014-B ┆ ]          ┆ -11\"]     ┆ Drawn by  ┆   ┆           ┆           ┆           ┆        │\n",
       "│ 63C-9736EB ┆            ┆           ┆ Wayne     ┆   ┆           ┆           ┆           ┆        │\n",
       "│ 68…        ┆            ┆           ┆ Boring    ┆   ┆           ┆           ┆           ┆        │\n",
       "│ EDC17AE1-6 ┆ [\"A39742\"] ┆ [\"1931-07 ┆ The story ┆ … ┆           ┆           ┆ null      ┆ null   │\n",
       "│ E8D-1014-9 ┆            ┆ -18\"]     ┆ of        ┆   ┆           ┆           ┆           ┆        │\n",
       "│ CF5-AEB3FC ┆            ┆           ┆ religion, ┆   ┆           ┆           ┆           ┆        │\n",
       "│ A4…        ┆            ┆           ┆ from      ┆   ┆           ┆           ┆           ┆        │\n",
       "│            ┆            ┆           ┆ cave…     ┆   ┆           ┆           ┆           ┆        │\n",
       "│ F27552A2-6 ┆ [\"A45188\"] ┆ [\"1931-11 ┆ Tarzan    ┆ … ┆           ┆           ┆ null      ┆ null   │\n",
       "│ E8D-1014-9 ┆            ┆ -20\"]     ┆ the invin ┆   ┆           ┆           ┆           ┆        │\n",
       "│ CF5-AEB3FC ┆            ┆           ┆ cible     ┆   ┆           ┆           ┆           ┆        │\n",
       "│ A4…        ┆            ┆           ┆           ┆   ┆           ┆           ┆           ┆        │\n",
       "└────────────┴────────────┴───────────┴───────────┴───┴───────────┴───────────┴───────────┴────────┘"
      ],
      "text/html": [
       "<div><style>\n",
       ".dataframe > thead > tr,\n",
       ".dataframe > tbody > tr {\n",
       "  text-align: right;\n",
       "  white-space: pre-wrap;\n",
       "}\n",
       "</style>\n",
       "<small>shape: (87, 12)</small><table border=\"1\" class=\"dataframe\"><thead><tr><th>uuid</th><th>regnums</th><th>reg_dates</th><th>title</th><th>authors</th><th>publishers</th><th>disposition</th><th>year</th><th>group_title</th><th>group_uuid</th><th>notes</th><th>parent</th></tr><tr><td>str</td><td>list[str]</td><td>list[str]</td><td>str</td><td>list[str]</td><td>list[str]</td><td>str</td><td>str</td><td>str</td><td>str</td><td>list[str]</td><td>str</td></tr></thead><tbody><tr><td>&quot;F58A1371-7454-…</td><td>[&quot;A180056&quot;]</td><td>[&quot;1943-06-09&quot;]</td><td>&quot;Style book of …</td><td>[&quot;Garst (Robert E.)&quot;]</td><td>[&quot;New York&quot;]</td><td>&quot;Not renewed.&quot;</td><td>&quot;1944&quot;</td><td>&quot;&quot;</td><td>&quot;&quot;</td><td>null</td><td>null</td></tr><tr><td>&quot;7FB177C1-6E18-…</td><td>[&quot;A168596&quot;]</td><td>[&quot;1942-11-02&quot;]</td><td>&quot;Superman.&quot;</td><td>[&quot;Lowther (George)&quot;]</td><td>[&quot;Superman, inc.&quot;]</td><td>&quot;Not renewed.&quot;</td><td>&quot;1942&quot;</td><td>&quot;&quot;</td><td>&quot;&quot;</td><td>null</td><td>null</td></tr><tr><td>&quot;97656587-6CFA-…</td><td>[&quot;A8019&quot;]</td><td>[&quot;1929-05-03&quot;]</td><td>&quot;Vogue’s book o…</td><td>[&quot;Vogue&quot;]</td><td>[&quot;Doubleday, Doran &amp; company, inc.&quot;, &quot;Doubleday, Doran &amp; co., inc.&quot;]</td><td>&quot;Not renewed.&quot;</td><td>&quot;1929&quot;</td><td>&quot;&quot;</td><td>&quot;&quot;</td><td>null</td><td>null</td></tr><tr><td>&quot;A50C3D52-6CFA-…</td><td>[&quot;A12694&quot;]</td><td>[&quot;1929-09-28&quot;]</td><td>&quot;Tarzan and the…</td><td>[&quot;Burroughs, Edgar Rice&quot;, &quot;Edgar Rice Burroughs&quot;, &quot;A. W. Sperry&quot;]</td><td>[&quot;Metropolitan books&quot;, &quot;Edgar Rice Burroughs, inc.&quot;]</td><td>&quot;Not renewed.&quot;</td><td>&quot;1929&quot;</td><td>&quot;&quot;</td><td>&quot;&quot;</td><td>null</td><td>null</td></tr><tr><td>&quot;A63FF405-6CFA-…</td><td>[&quot;A10771&quot;]</td><td>[&quot;1929-08-10&quot;]</td><td>&quot;The illustrate…</td><td>[&quot;Burroughs, Edgar Rice&quot;, &quot;Edgar Rice Burroughs&quot;, &quot;Harold Foster&quot;]</td><td>[&quot;Grosset &amp; Dunlap&quot;, &quot;Edgar Rice Burroughs, inc.&quot;]</td><td>&quot;Not renewed.&quot;</td><td>&quot;1929&quot;</td><td>&quot;&quot;</td><td>&quot;&quot;</td><td>[&quot;no. 1, picturized from the novel “Tarzan of the apes”&quot;]</td><td>null</td></tr><tr><td>&hellip;</td><td>&hellip;</td><td>&hellip;</td><td>&hellip;</td><td>&hellip;</td><td>&hellip;</td><td>&hellip;</td><td>&hellip;</td><td>&hellip;</td><td>&hellip;</td><td>&hellip;</td><td>&hellip;</td></tr><tr><td>&quot;B01231AB-6D13-…</td><td>[&quot;A602465&quot;]</td><td>[&quot;1962-12-12&quot;]</td><td>&quot;VERNON LAW BOO…</td><td>[&quot;Frederick D. Lewis, JR.&quot;, &quot;West Pub. Co. &amp; Vernon Law Book Co&quot;, … &quot;VERNON&#x27;S TEXAS RULES OF CIVIL PROCEDURE&quot;]</td><td>[&quot;West Pub. Co. &amp; Vernon Law Book Co.&quot;]</td><td>&quot;Not renewed.&quot;</td><td>&quot;1962&quot;</td><td>&quot;&quot;</td><td>&quot;&quot;</td><td>[&quot;in 29&quot;, &quot;employers for hire&quot;]</td><td>null</td></tr><tr><td>&quot;DC51F471-6D13-…</td><td>[&quot;A600557&quot;]</td><td>[&quot;1962-11-23&quot;]</td><td>&quot;Growing crisis…</td><td>[&quot;GROWING CRISIS FOR THE CITIES (FILMSTRIP SCRIPT)&quot;]</td><td>[&quot;New York Times Co.&quot;]</td><td>&quot;Not renewed.&quot;</td><td>&quot;1962&quot;</td><td>&quot;&quot;</td><td>&quot;&quot;</td><td>null</td><td>null</td></tr><tr><td>&quot;04848F74-6D14-…</td><td>[&quot;A572608&quot;]</td><td>[&quot;1962-04-11&quot;]</td><td>&quot;SUPERMAN. Draw…</td><td>[&quot;SUPERMAN&quot;]</td><td>[&quot;National Periodical Publications, Inc.Release week of&quot;]</td><td>&quot;Not renewed.&quot;</td><td>&quot;1962&quot;</td><td>&quot;&quot;</td><td>&quot;&quot;</td><td>null</td><td>null</td></tr><tr><td>&quot;EDC17AE1-6E8D-…</td><td>[&quot;A39742&quot;]</td><td>[&quot;1931-07-18&quot;]</td><td>&quot;The story of r…</td><td>[&quot;Bunge, Martin Ludwig Detloff&quot;, &quot;Martin L. Bunge&quot;]</td><td>[&quot;Fellowship publishing house&quot;, &quot;Fellowship pub. house.&quot;]</td><td>&quot;Not renewed.&quot;</td><td>&quot;1931&quot;</td><td>&quot;&quot;</td><td>&quot;&quot;</td><td>null</td><td>null</td></tr><tr><td>&quot;F27552A2-6E8D-…</td><td>[&quot;A45188&quot;]</td><td>[&quot;1931-11-20&quot;]</td><td>&quot;Tarzan the inv…</td><td>[&quot;Burroughs, Edgar Rice&quot;, &quot;Edgar Rice Burroughs&quot;, &quot;Studley O. Burroughs&quot;]</td><td>[&quot;E. R. Burroughs, inc.&quot;, &quot;Edgar Rice Burroughs, inc.&quot;]</td><td>&quot;Not renewed.&quot;</td><td>&quot;1931&quot;</td><td>&quot;&quot;</td><td>&quot;&quot;</td><td>null</td><td>null</td></tr></tbody></table></div>"
      ]
     },
     "execution_count": 8,
     "metadata": {},
     "output_type": "execute_result"
    }
   ],
   "execution_count": 8
  },
  {
   "cell_type": "code",
   "id": "bcf1b7312f376e2a",
   "metadata": {
    "ExecuteTime": {
     "end_time": "2024-03-07T20:34:35.901992Z",
     "start_time": "2024-03-07T20:34:35.038125Z"
    }
   },
   "source": [
    "ren_unmat.filter(pl.col(\"reg_date\").dt.year() == pl.lit(1953)).collect()"
   ],
   "outputs": [
    {
     "data": {
      "text/plain": [
       "shape: (1_120, 13)\n",
       "┌────────────┬─────────┬────────────┬────────────┬───┬────────────┬────────────┬───────────┬───────┐\n",
       "│ uuid       ┆ regnum  ┆ reg_date   ┆ renewal_id ┆ … ┆ see_also_r ┆ full_text  ┆ claimants ┆ notes │\n",
       "│ ---        ┆ ---     ┆ ---        ┆ ---        ┆   ┆ egistratio ┆ ---        ┆ ---       ┆ ---   │\n",
       "│ str        ┆ str     ┆ date       ┆ str        ┆   ┆ n          ┆ str        ┆ str       ┆ str   │\n",
       "│            ┆         ┆            ┆            ┆   ┆ ---        ┆            ┆           ┆       │\n",
       "│            ┆         ┆            ┆            ┆   ┆ list[null] ┆            ┆           ┆       │\n",
       "╞════════════╪═════════╪════════════╪════════════╪═══╪════════════╪════════════╪═══════════╪═══════╡\n",
       "│ 7eb13df9-7 ┆ A419543 ┆ 1953-09-29 ┆ RE7894     ┆ … ┆ []         ┆            ┆ The       ┆ null  │\n",
       "│ 847-0001-e ┆         ┆            ┆            ┆   ┆            ┆            ┆ Christian ┆       │\n",
       "│ 7b8-924549 ┆         ┆            ┆            ┆   ┆            ┆            ┆ Science   ┆       │\n",
       "│ 90…        ┆         ┆            ┆            ┆   ┆            ┆            ┆ Board of  ┆       │\n",
       "│            ┆         ┆            ┆            ┆   ┆            ┆            ┆ D…        ┆       │\n",
       "│ 8537a638-d ┆ A78252  ┆ 1953-02-02 ┆ RE102259   ┆ … ┆ []         ┆            ┆           ┆ null  │\n",
       "│ 799-1fd0-c ┆         ┆            ┆            ┆   ┆            ┆            ┆           ┆       │\n",
       "│ 224-634b51 ┆         ┆            ┆            ┆   ┆            ┆            ┆           ┆       │\n",
       "│ 4d…        ┆         ┆            ┆            ┆   ┆            ┆            ┆           ┆       │\n",
       "│ 64909d6d-d ┆ A82932  ┆ 1953-03-05 ┆ RE86864    ┆ … ┆ []         ┆            ┆ West Publ ┆ null  │\n",
       "│ b61-45b8-b ┆         ┆            ┆            ┆   ┆            ┆            ┆ ishing    ┆       │\n",
       "│ 376-c3b62a ┆         ┆            ┆            ┆   ┆            ┆            ┆ Company|P ┆       │\n",
       "│ 5a…        ┆         ┆            ┆            ┆   ┆            ┆            ┆ WH        ┆       │\n",
       "│ 58e59e17-0 ┆ A80360  ┆ 1953-01-20 ┆ RE83002    ┆ … ┆ []         ┆            ┆ Bancroft- ┆ null  │\n",
       "│ e5e-d9f2-a ┆         ┆            ┆            ┆   ┆            ┆            ┆ Whitney   ┆       │\n",
       "│ d6b-1e5475 ┆         ┆            ┆            ┆   ┆            ┆            ┆ Company|P ┆       │\n",
       "│ 00…        ┆         ┆            ┆            ┆   ┆            ┆            ┆ WH        ┆       │\n",
       "│ 02e0848c-3 ┆ A76559  ┆ 1953-01-19 ┆ RE87335    ┆ … ┆ []         ┆            ┆ West Publ ┆ null  │\n",
       "│ d81-63ce-c ┆         ┆            ┆            ┆   ┆            ┆            ┆ ishing    ┆       │\n",
       "│ bad-498d36 ┆         ┆            ┆            ┆   ┆            ┆            ┆ Company|P ┆       │\n",
       "│ f0…        ┆         ┆            ┆            ┆   ┆            ┆            ┆ WH        ┆       │\n",
       "│ …          ┆ …       ┆ …          ┆ …          ┆ … ┆ …          ┆ …          ┆ …         ┆ …     │\n",
       "│ 716ab701-0 ┆ AF41374 ┆ 1953-12-23 ┆ RE99660    ┆ … ┆ []         ┆            ┆ Isabel    ┆ null  │\n",
       "│ 1d1-5ca1-2 ┆         ┆            ┆            ┆   ┆            ┆            ┆ Garcia    ┆       │\n",
       "│ 42a-bd8b7d ┆         ┆            ┆            ┆   ┆            ┆            ┆ Lorca|PPW ┆       │\n",
       "│ 2b…        ┆         ┆            ┆            ┆   ┆            ┆            ┆           ┆       │\n",
       "│ d046715c-f ┆ A820441 ┆ 1953-12-25 ┆ RE110007   ┆ … ┆ []         ┆            ┆ Alfred    ┆ null  │\n",
       "│ 8ee-73e9-0 ┆         ┆            ┆            ┆   ┆            ┆            ┆ Music     ┆       │\n",
       "│ 6a1-e315ba ┆         ┆            ┆            ┆   ┆            ┆            ┆ Company,  ┆       │\n",
       "│ 14…        ┆         ┆            ┆            ┆   ┆            ┆            ┆ Inc.|PWH  ┆       │\n",
       "│ fc461720-1 ┆ A126785 ┆ 1953-12-30 ┆ RE102903   ┆ … ┆ []         ┆            ┆ Walt      ┆ null  │\n",
       "│ a6d-02ed-2 ┆         ┆            ┆            ┆   ┆            ┆            ┆ Disney    ┆       │\n",
       "│ 6bd-66ad76 ┆         ┆            ┆            ┆   ┆            ┆            ┆ Productio ┆       │\n",
       "│ a1…        ┆         ┆            ┆            ┆   ┆            ┆            ┆ ns|PWH    ┆       │\n",
       "│ 3265a9b7-6 ┆ A12583  ┆ 1953-06-01 ┆ null       ┆ … ┆ []         ┆ R636967.   ┆ null      ┆       │\n",
       "│ bee-5810-a ┆         ┆            ┆            ┆   ┆            ┆ Vermaninge ┆           ┆       │\n",
       "│ 4ce-8d3164 ┆         ┆            ┆            ┆   ┆            ┆ n. By      ┆           ┆       │\n",
       "│ 45…        ┆         ┆            ┆            ┆   ┆            ┆ Abd-ru-…   ┆           ┆       │\n",
       "│ 9eaa35e9-1 ┆ A120071 ┆ 1953-12-30 ┆ RE115802   ┆ … ┆ []         ┆            ┆ The New   ┆ null  │\n",
       "│ 665-fa7a-7 ┆         ┆            ┆            ┆   ┆            ┆            ┆ York      ┆       │\n",
       "│ 8ea-b4f3ae ┆         ┆            ┆            ┆   ┆            ┆            ┆ Times Com ┆       │\n",
       "│ 9a…        ┆         ┆            ┆            ┆   ┆            ┆            ┆ pany|PWH  ┆       │\n",
       "└────────────┴─────────┴────────────┴────────────┴───┴────────────┴────────────┴───────────┴───────┘"
      ],
      "text/html": [
       "<div><style>\n",
       ".dataframe > thead > tr,\n",
       ".dataframe > tbody > tr {\n",
       "  text-align: right;\n",
       "  white-space: pre-wrap;\n",
       "}\n",
       "</style>\n",
       "<small>shape: (1_120, 13)</small><table border=\"1\" class=\"dataframe\"><thead><tr><th>uuid</th><th>regnum</th><th>reg_date</th><th>renewal_id</th><th>renewal_date</th><th>author</th><th>title</th><th>new_matter</th><th>see_also_renewal</th><th>see_also_registration</th><th>full_text</th><th>claimants</th><th>notes</th></tr><tr><td>str</td><td>str</td><td>date</td><td>str</td><td>str</td><td>str</td><td>str</td><td>str</td><td>list[null]</td><td>list[null]</td><td>str</td><td>str</td><td>str</td></tr></thead><tbody><tr><td>&quot;7eb13df9-7847-…</td><td>&quot;A419543&quot;</td><td>1953-09-29</td><td>&quot;RE7894&quot;</td><td>null</td><td>null</td><td>&quot;Father-Mother …</td><td>&quot;&quot;</td><td>[]</td><td>[]</td><td>&quot;&quot;</td><td>&quot;The Christian …</td><td>null</td></tr><tr><td>&quot;8537a638-d799-…</td><td>&quot;A78252&quot;</td><td>1953-02-02</td><td>&quot;RE102259&quot;</td><td>null</td><td>null</td><td>&quot;Music for life…</td><td>&quot;&quot;</td><td>[]</td><td>[]</td><td>&quot;&quot;</td><td>&quot;&quot;</td><td>null</td></tr><tr><td>&quot;64909d6d-db61-…</td><td>&quot;A82932&quot;</td><td>1953-03-05</td><td>&quot;RE86864&quot;</td><td>null</td><td>null</td><td>&quot;Iowa Code anno…</td><td>&quot;&quot;</td><td>[]</td><td>[]</td><td>&quot;&quot;</td><td>&quot;West Publishin…</td><td>null</td></tr><tr><td>&quot;58e59e17-0e5e-…</td><td>&quot;A80360&quot;</td><td>1953-01-20</td><td>&quot;RE83002&quot;</td><td>null</td><td>null</td><td>&quot;Advance Califo…</td><td>&quot;&quot;</td><td>[]</td><td>[]</td><td>&quot;&quot;</td><td>&quot;Bancroft-Whitn…</td><td>null</td></tr><tr><td>&quot;02e0848c-3d81-…</td><td>&quot;A76559&quot;</td><td>1953-01-19</td><td>&quot;RE87335&quot;</td><td>null</td><td>null</td><td>&quot;Oklahoma statu…</td><td>&quot;&quot;</td><td>[]</td><td>[]</td><td>&quot;&quot;</td><td>&quot;West Publishin…</td><td>null</td></tr><tr><td>&hellip;</td><td>&hellip;</td><td>&hellip;</td><td>&hellip;</td><td>&hellip;</td><td>&hellip;</td><td>&hellip;</td><td>&hellip;</td><td>&hellip;</td><td>&hellip;</td><td>&hellip;</td><td>&hellip;</td><td>&hellip;</td></tr><tr><td>&quot;716ab701-01d1-…</td><td>&quot;AF41374&quot;</td><td>1953-12-23</td><td>&quot;RE99660&quot;</td><td>null</td><td>null</td><td>&quot;Cinco farsas b…</td><td>&quot;&quot;</td><td>[]</td><td>[]</td><td>&quot;&quot;</td><td>&quot;Isabel Garcia …</td><td>null</td></tr><tr><td>&quot;d046715c-f8ee-…</td><td>&quot;A820441&quot;</td><td>1953-12-25</td><td>&quot;RE110007&quot;</td><td>null</td><td>null</td><td>&quot;Polkas on para…</td><td>&quot;&quot;</td><td>[]</td><td>[]</td><td>&quot;&quot;</td><td>&quot;Alfred Music C…</td><td>null</td></tr><tr><td>&quot;fc461720-1a6d-…</td><td>&quot;A126785&quot;</td><td>1953-12-30</td><td>&quot;RE102903&quot;</td><td>null</td><td>null</td><td>&quot;Pinocchio lear…</td><td>&quot;&quot;</td><td>[]</td><td>[]</td><td>&quot;&quot;</td><td>&quot;Walt Disney Pr…</td><td>null</td></tr><tr><td>&quot;3265a9b7-6bee-…</td><td>&quot;A12583&quot;</td><td>1953-06-01</td><td>null</td><td>&quot;&quot;</td><td>&quot;Oskar Ernst Be…</td><td>&quot;Vermaningen&quot;</td><td>&quot;&quot;</td><td>[]</td><td>[]</td><td>&quot;R636967. Verma…</td><td>null</td><td>&quot;&quot;</td></tr><tr><td>&quot;9eaa35e9-1665-…</td><td>&quot;A120071&quot;</td><td>1953-12-30</td><td>&quot;RE115802&quot;</td><td>null</td><td>null</td><td>&quot;The New York t…</td><td>&quot;&quot;</td><td>[]</td><td>[]</td><td>&quot;&quot;</td><td>&quot;The New York T…</td><td>null</td></tr></tbody></table></div>"
      ]
     },
     "execution_count": 9,
     "metadata": {},
     "output_type": "execute_result"
    }
   ],
   "execution_count": 9
  }
 ],
 "metadata": {
  "kernelspec": {
   "display_name": "Python 3",
   "language": "python",
   "name": "python3"
  },
  "language_info": {
   "codemirror_mode": {
    "name": "ipython",
    "version": 2
   },
   "file_extension": ".py",
   "mimetype": "text/x-python",
   "name": "python",
   "nbconvert_exporter": "python",
   "pygments_lexer": "ipython2",
   "version": "2.7.6"
  }
 },
 "nbformat": 4,
 "nbformat_minor": 5
}
