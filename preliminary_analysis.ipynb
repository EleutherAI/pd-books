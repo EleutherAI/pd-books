{
 "cells": [
  {
   "cell_type": "code",
   "outputs": [],
   "source": [
    "import datasets\n",
    "import pandas as pd\n",
    "import matplotlib.pyplot as plt"
   ],
   "metadata": {
    "collapsed": false,
    "ExecuteTime": {
     "end_time": "2024-01-15T20:41:25.576485Z",
     "start_time": "2024-01-15T20:41:25.524057Z"
    }
   },
   "id": "1e84b5ccca85d08a",
   "execution_count": 223
  },
  {
   "cell_type": "markdown",
   "source": [
    "I have uploaded the datasets here: [registrations](https://huggingface.co/datasets/baber/NYPL_entries) and [renewals](https://huggingface.co/datasets/baber/cce-renewals). The Registrations are subset to < 1964. Further column details in the dataset links."
   ],
   "metadata": {
    "collapsed": false
   },
   "id": "8be0b1d42b81759c"
  },
  {
   "cell_type": "code",
   "execution_count": 224,
   "id": "initial_id",
   "metadata": {
    "collapsed": true,
    "ExecuteTime": {
     "end_time": "2024-01-15T20:41:39.980001Z",
     "start_time": "2024-01-15T20:41:25.581070Z"
    }
   },
   "outputs": [],
   "source": [
    "# load the datasets\n",
    "reg = datasets.load_dataset(\"baber/NYPL_entries\")[\"train\"].to_pandas().iloc[:, :-5]\n",
    "ren = datasets.load_dataset(\"baber/cce-renewals\")[\"train\"].to_pandas().drop([\"see_also_reg\", \"notes\", \"new_matter\", \"see_also_ren\", \"see_also_reg\"], axis=1)"
   ]
  },
  {
   "cell_type": "markdown",
   "source": [],
   "metadata": {
    "collapsed": false
   },
   "id": "4b6b611fff2d287b"
  },
  {
   "cell_type": "code",
   "outputs": [
    {
     "data": {
      "text/plain": "   year  volume part page                                    id   regnum  \\\n0  1944      41    1  125  FC10B2ED-7454-1014-804D-AD6D08A5DF13  A181780   \n1  1944      41    1  125  FC10C2AA-7454-1014-804D-AD6D08A5DF13  A181778   \n2  1944      41    1  125  FC10C53D-7454-1014-804D-AD6D08A5DF13  A181622   \n3  1944      41    1  125  FC10C77B-7454-1014-804D-AD6D08A5DF13  A181549   \n4  1944      41    1  125  FC10C9F9-7454-1014-804D-AD6D08A5DF13  A181542   \n\n                authorName                                              title  \\\n0         Abrams (Talbert)  Essentials of aerial surveying and photo inter...   \n1       Akers (Susan Grey)                          Simple library cataloging   \n2         Almack (John C.)                                       Painted pony   \n3  Altenburg (Clarence E.)               Modern conquistador in South America   \n4      Altrocchi (Rudolph)                            Sleuthing in the stacks   \n\n                                  pubName               pubPlace        date  \\\n0              McGraw-Hill book co., inc.               New York  1944-07-17   \n1                     Amer. library assn.                Chicago  1944-06-29   \n2                         Wallace Hebberd  Santa Barbara, Calif.  1944-07-01   \n3                  Christopher pub. house                 Boston  1944-06-24   \n4  President & fellows of Harvard college       Cambridge, Mass.  1944-06-23   \n\n         regDate    regNum  \n0  July 17, 1944  A 181780  \n1  June 29, 1944  A 181778  \n2   July 1, 1944  A 181622  \n3  June 24, 1944  A 181549  \n4  June 23, 1944  A 181542  ",
      "text/html": "<div>\n<style scoped>\n    .dataframe tbody tr th:only-of-type {\n        vertical-align: middle;\n    }\n\n    .dataframe tbody tr th {\n        vertical-align: top;\n    }\n\n    .dataframe thead th {\n        text-align: right;\n    }\n</style>\n<table border=\"1\" class=\"dataframe\">\n  <thead>\n    <tr style=\"text-align: right;\">\n      <th></th>\n      <th>year</th>\n      <th>volume</th>\n      <th>part</th>\n      <th>page</th>\n      <th>id</th>\n      <th>regnum</th>\n      <th>authorName</th>\n      <th>title</th>\n      <th>pubName</th>\n      <th>pubPlace</th>\n      <th>date</th>\n      <th>regDate</th>\n      <th>regNum</th>\n    </tr>\n  </thead>\n  <tbody>\n    <tr>\n      <th>0</th>\n      <td>1944</td>\n      <td>41</td>\n      <td>1</td>\n      <td>125</td>\n      <td>FC10B2ED-7454-1014-804D-AD6D08A5DF13</td>\n      <td>A181780</td>\n      <td>Abrams (Talbert)</td>\n      <td>Essentials of aerial surveying and photo inter...</td>\n      <td>McGraw-Hill book co., inc.</td>\n      <td>New York</td>\n      <td>1944-07-17</td>\n      <td>July 17, 1944</td>\n      <td>A 181780</td>\n    </tr>\n    <tr>\n      <th>1</th>\n      <td>1944</td>\n      <td>41</td>\n      <td>1</td>\n      <td>125</td>\n      <td>FC10C2AA-7454-1014-804D-AD6D08A5DF13</td>\n      <td>A181778</td>\n      <td>Akers (Susan Grey)</td>\n      <td>Simple library cataloging</td>\n      <td>Amer. library assn.</td>\n      <td>Chicago</td>\n      <td>1944-06-29</td>\n      <td>June 29, 1944</td>\n      <td>A 181778</td>\n    </tr>\n    <tr>\n      <th>2</th>\n      <td>1944</td>\n      <td>41</td>\n      <td>1</td>\n      <td>125</td>\n      <td>FC10C53D-7454-1014-804D-AD6D08A5DF13</td>\n      <td>A181622</td>\n      <td>Almack (John C.)</td>\n      <td>Painted pony</td>\n      <td>Wallace Hebberd</td>\n      <td>Santa Barbara, Calif.</td>\n      <td>1944-07-01</td>\n      <td>July 1, 1944</td>\n      <td>A 181622</td>\n    </tr>\n    <tr>\n      <th>3</th>\n      <td>1944</td>\n      <td>41</td>\n      <td>1</td>\n      <td>125</td>\n      <td>FC10C77B-7454-1014-804D-AD6D08A5DF13</td>\n      <td>A181549</td>\n      <td>Altenburg (Clarence E.)</td>\n      <td>Modern conquistador in South America</td>\n      <td>Christopher pub. house</td>\n      <td>Boston</td>\n      <td>1944-06-24</td>\n      <td>June 24, 1944</td>\n      <td>A 181549</td>\n    </tr>\n    <tr>\n      <th>4</th>\n      <td>1944</td>\n      <td>41</td>\n      <td>1</td>\n      <td>125</td>\n      <td>FC10C9F9-7454-1014-804D-AD6D08A5DF13</td>\n      <td>A181542</td>\n      <td>Altrocchi (Rudolph)</td>\n      <td>Sleuthing in the stacks</td>\n      <td>President &amp; fellows of Harvard college</td>\n      <td>Cambridge, Mass.</td>\n      <td>1944-06-23</td>\n      <td>June 23, 1944</td>\n      <td>A 181542</td>\n    </tr>\n  </tbody>\n</table>\n</div>"
     },
     "execution_count": 225,
     "metadata": {},
     "output_type": "execute_result"
    }
   ],
   "source": [
    "reg.head()"
   ],
   "metadata": {
    "collapsed": false,
    "ExecuteTime": {
     "end_time": "2024-01-15T20:41:39.981846Z",
     "start_time": "2024-01-15T20:41:39.953625Z"
    }
   },
   "id": "92ea7f880b988ae0",
   "execution_count": 225
  },
  {
   "cell_type": "code",
   "outputs": [
    {
     "data": {
      "text/plain": "       id                              entry_id  \\\n0  R59299  a4fa4317-a991-58a3-8711-16411fb30eb9   \n1  R60397  ab74c10c-5dc0-5c44-b88a-0833652191bf   \n2  R59546  5ce3fe65-7a4e-509f-a09a-4447035448f9   \n3  R61282  ee4ab3d8-9ce7-5721-877e-428f58e00740   \n4  R61283  ee4ab3d8-9ce7-5721-877e-428f58e00740   \n\n                                               title        rdat  \\\n0  HIS CHILDREN'S CHILDREN (In Cosmopolitan, July...  1950-03-06   \n1  HIS SOUL, a farce in one act (French's interna...  1950-04-04   \n2                          HIS SOUL GOES MARCHING ON  1950-03-14   \n3  HIS THIRD MASTER, by Max Brand [pseud. of Fred...  1950-04-21   \n4  HIS THIRD MASTER, by Max Brand [pseud. of Fred...  1950-04-21   \n\n                                           full_text               claimants  \\\n0  HIS CHILDREN'S CHILDREN, by Arthur C. Train. (...        Helen C. Train|W   \n1  HIS SOUL, a farce in one act, by Eleanor Maud ...       Effingham Crane|E   \n2  HIS SOUL GOES MARCHING ON, by Mary Raymond Shi...  Paul Shipman Andrews|C   \n3  HIS THIRD MASTER, by Max Brand [pseud. of Fred...         Dorothy Faust|W   \n4  HIS THIRD MASTER, by Max Brand [pseud. of Fred...         Dorothy Faust|W   \n\n      oreg  volume        odat  page                         author  number  \\\n0  B553617     4.0  1922-12-10  23.0               Arthur C. Train.     1.0   \n1   D62776     4.0  1922-10-31  23.0            Eleanor Maud Crane.     1.0   \n2  A659413     4.0  1922-03-24  23.0  Mary Raymond Shipman Andrews.     1.0   \n3  B528460     4.0  1922-06-01  23.0                           None     1.0   \n4  B529064     4.0  1922-06-08  23.0                           None     1.0   \n\n  part  \n0  14A  \n1  14A  \n2  14A  \n3  14A  \n4  14A  ",
      "text/html": "<div>\n<style scoped>\n    .dataframe tbody tr th:only-of-type {\n        vertical-align: middle;\n    }\n\n    .dataframe tbody tr th {\n        vertical-align: top;\n    }\n\n    .dataframe thead th {\n        text-align: right;\n    }\n</style>\n<table border=\"1\" class=\"dataframe\">\n  <thead>\n    <tr style=\"text-align: right;\">\n      <th></th>\n      <th>id</th>\n      <th>entry_id</th>\n      <th>title</th>\n      <th>rdat</th>\n      <th>full_text</th>\n      <th>claimants</th>\n      <th>oreg</th>\n      <th>volume</th>\n      <th>odat</th>\n      <th>page</th>\n      <th>author</th>\n      <th>number</th>\n      <th>part</th>\n    </tr>\n  </thead>\n  <tbody>\n    <tr>\n      <th>0</th>\n      <td>R59299</td>\n      <td>a4fa4317-a991-58a3-8711-16411fb30eb9</td>\n      <td>HIS CHILDREN'S CHILDREN (In Cosmopolitan, July...</td>\n      <td>1950-03-06</td>\n      <td>HIS CHILDREN'S CHILDREN, by Arthur C. Train. (...</td>\n      <td>Helen C. Train|W</td>\n      <td>B553617</td>\n      <td>4.0</td>\n      <td>1922-12-10</td>\n      <td>23.0</td>\n      <td>Arthur C. Train.</td>\n      <td>1.0</td>\n      <td>14A</td>\n    </tr>\n    <tr>\n      <th>1</th>\n      <td>R60397</td>\n      <td>ab74c10c-5dc0-5c44-b88a-0833652191bf</td>\n      <td>HIS SOUL, a farce in one act (French's interna...</td>\n      <td>1950-04-04</td>\n      <td>HIS SOUL, a farce in one act, by Eleanor Maud ...</td>\n      <td>Effingham Crane|E</td>\n      <td>D62776</td>\n      <td>4.0</td>\n      <td>1922-10-31</td>\n      <td>23.0</td>\n      <td>Eleanor Maud Crane.</td>\n      <td>1.0</td>\n      <td>14A</td>\n    </tr>\n    <tr>\n      <th>2</th>\n      <td>R59546</td>\n      <td>5ce3fe65-7a4e-509f-a09a-4447035448f9</td>\n      <td>HIS SOUL GOES MARCHING ON</td>\n      <td>1950-03-14</td>\n      <td>HIS SOUL GOES MARCHING ON, by Mary Raymond Shi...</td>\n      <td>Paul Shipman Andrews|C</td>\n      <td>A659413</td>\n      <td>4.0</td>\n      <td>1922-03-24</td>\n      <td>23.0</td>\n      <td>Mary Raymond Shipman Andrews.</td>\n      <td>1.0</td>\n      <td>14A</td>\n    </tr>\n    <tr>\n      <th>3</th>\n      <td>R61282</td>\n      <td>ee4ab3d8-9ce7-5721-877e-428f58e00740</td>\n      <td>HIS THIRD MASTER, by Max Brand [pseud. of Fred...</td>\n      <td>1950-04-21</td>\n      <td>HIS THIRD MASTER, by Max Brand [pseud. of Fred...</td>\n      <td>Dorothy Faust|W</td>\n      <td>B528460</td>\n      <td>4.0</td>\n      <td>1922-06-01</td>\n      <td>23.0</td>\n      <td>None</td>\n      <td>1.0</td>\n      <td>14A</td>\n    </tr>\n    <tr>\n      <th>4</th>\n      <td>R61283</td>\n      <td>ee4ab3d8-9ce7-5721-877e-428f58e00740</td>\n      <td>HIS THIRD MASTER, by Max Brand [pseud. of Fred...</td>\n      <td>1950-04-21</td>\n      <td>HIS THIRD MASTER, by Max Brand [pseud. of Fred...</td>\n      <td>Dorothy Faust|W</td>\n      <td>B529064</td>\n      <td>4.0</td>\n      <td>1922-06-08</td>\n      <td>23.0</td>\n      <td>None</td>\n      <td>1.0</td>\n      <td>14A</td>\n    </tr>\n  </tbody>\n</table>\n</div>"
     },
     "execution_count": 226,
     "metadata": {},
     "output_type": "execute_result"
    }
   ],
   "source": [
    "ren.head()"
   ],
   "metadata": {
    "collapsed": false,
    "ExecuteTime": {
     "end_time": "2024-01-15T20:41:39.982356Z",
     "start_time": "2024-01-15T20:41:39.961738Z"
    }
   },
   "id": "5db3ee84e1fedef8",
   "execution_count": 226
  },
  {
   "cell_type": "markdown",
   "source": [
    "We mainly care about the registration date and the (non-unique) registration number. They have standardized and non-standardized columns in the registrations dataset."
   ],
   "metadata": {
    "collapsed": false
   },
   "id": "e6a318a22908984a"
  },
  {
   "cell_type": "code",
   "outputs": [],
   "source": [
    "reg = reg[[\"regnum\", \"regNum\" ,\"date\", \"regDate\", \"id\", \"year\"]]\n",
    "reg[\"date\"] = pd.to_datetime(reg[\"date\"], errors=\"coerce\")\n",
    "reg = reg[reg['date'].dt.year < 1964]\n",
    "ren = ren[[\"oreg\", \"odat\" ,\"rdat\", \"entry_id\"]].rename(columns={\"oreg\": \"regnum\", \"odat\": \"date\"})\n",
    "ren[\"date\"] = pd.to_datetime(ren[\"date\"], errors=\"coerce\")"
   ],
   "metadata": {
    "collapsed": false,
    "ExecuteTime": {
     "end_time": "2024-01-15T20:41:40.258819Z",
     "start_time": "2024-01-15T20:41:39.966608Z"
    }
   },
   "id": "f812b908fc667140",
   "execution_count": 227
  },
  {
   "cell_type": "markdown",
   "source": [
    "Some basic stats"
   ],
   "metadata": {
    "collapsed": false
   },
   "id": "ee47944a9d23afc3"
  },
  {
   "cell_type": "code",
   "outputs": [
    {
     "name": "stdout",
     "output_type": "stream",
     "text": [
      "Total entries: 893834\n",
      "Total n/a entries\n",
      "regnum     31\n",
      "regNum     40\n",
      "date        0\n",
      "regDate     0\n",
      "id          0\n",
      "year        0\n",
      "dtype: int64\n"
     ]
    }
   ],
   "source": [
    "print(f\"Total entries: {len(reg)}\")\n",
    "print(f\"Total n/a entries\")\n",
    "print(reg.isnull().sum())"
   ],
   "metadata": {
    "collapsed": false,
    "ExecuteTime": {
     "end_time": "2024-01-15T20:41:40.382499Z",
     "start_time": "2024-01-15T20:41:40.263671Z"
    }
   },
   "id": "76e22ab265db35f",
   "execution_count": 229
  },
  {
   "cell_type": "code",
   "outputs": [
    {
     "name": "stdout",
     "output_type": "stream",
     "text": [
      "Total entries: 445386\n",
      "Total n/a entries\n",
      "regnum      1719\n",
      "date        1714\n",
      "rdat        1693\n",
      "entry_id       0\n",
      "dtype: int64\n"
     ]
    }
   ],
   "source": [
    "print(f\"Total entries: {len(ren)}\")\n",
    "print(f\"Total n/a entries\")\n",
    "print(ren.isnull().sum())"
   ],
   "metadata": {
    "collapsed": false,
    "ExecuteTime": {
     "end_time": "2024-01-15T20:41:40.439209Z",
     "start_time": "2024-01-15T20:41:40.409011Z"
    }
   },
   "id": "273436612c6e0ac4",
   "execution_count": 230
  },
  {
   "cell_type": "markdown",
   "source": [
    "Remove the n/a for now and remove duplicates (date + regnum)"
   ],
   "metadata": {
    "collapsed": false
   },
   "id": "5c5aeaed5ce8ab89"
  },
  {
   "cell_type": "code",
   "outputs": [],
   "source": [
    "reg_na = reg[reg[[\"regnum\", \"date\"]].isna().any(axis=1)]\n",
    "ren_na = ren[ren[[\"regnum\", \"date\"]].isna().any(axis=1)]\n",
    "reg.dropna(subset=[\"regnum\", \"date\"], inplace=True)\n",
    "ren.dropna(subset=[\"regnum\", \"date\"], inplace=True)\n",
    "reg.drop_duplicates(subset=[\"regnum\", \"date\"], inplace=True)\n",
    "ren.drop_duplicates(subset=[\"regnum\", \"date\"], inplace=True)"
   ],
   "metadata": {
    "collapsed": false,
    "ExecuteTime": {
     "end_time": "2024-01-15T20:41:40.890312Z",
     "start_time": "2024-01-15T20:41:40.413862Z"
    }
   },
   "id": "61a4db25918dde5b",
   "execution_count": 231
  },
  {
   "cell_type": "code",
   "outputs": [
    {
     "name": "stdout",
     "output_type": "stream",
     "text": [
      "Registrations after removing n/a: 892,309\n",
      "Renewals after removing n/a: 413,127\n"
     ]
    }
   ],
   "source": [
    "print(f\"Registrations after removing n/a: {len(reg):,}\")\n",
    "print(f\"Renewals after removing n/a: {len(ren):,}\")"
   ],
   "metadata": {
    "collapsed": false,
    "ExecuteTime": {
     "end_time": "2024-01-15T20:41:40.924815Z",
     "start_time": "2024-01-15T20:41:40.889585Z"
    }
   },
   "id": "cde32a1381fa6e63",
   "execution_count": 232
  },
  {
   "cell_type": "markdown",
   "source": [
    "We only consider registration numbers starting with A (but not AF: foreign, AI: interim) as that's for books from what I can tell. \n",
    "TODO confirm"
   ],
   "metadata": {
    "collapsed": false
   },
   "id": "a8273d10bc05458f"
  },
  {
   "cell_type": "code",
   "outputs": [
    {
     "name": "stdout",
     "output_type": "stream",
     "text": [
      "Foreign entries: 110,022\n"
     ]
    },
    {
     "name": "stderr",
     "output_type": "stream",
     "text": [
      "/var/folders/jk/7srv9d5d0wvcbz8z_t3yjz_m0000gn/T/ipykernel_98199/630209938.py:4: UserWarning: Boolean Series key will be reindexed to match DataFrame index.\n",
      "  ren = ren[reg['regnum'].str.startswith('A') & ~ren['regnum'].str.startswith('AF') & ~ren['regnum'].str.startswith('AI')]\n"
     ]
    }
   ],
   "source": [
    "foreign = reg[reg['regnum'].str.startswith('AF')]\n",
    "print(f\"Foreign entries: {len(foreign):,}\")\n",
    "reg = reg[reg['regnum'].str.startswith('A') & ~reg['regnum'].str.startswith('AF') & ~reg['regnum'].str.startswith('AI')]\n",
    "ren = ren[reg['regnum'].str.startswith('A') & ~ren['regnum'].str.startswith('AF') & ~ren['regnum'].str.startswith('AI')]"
   ],
   "metadata": {
    "collapsed": false,
    "ExecuteTime": {
     "end_time": "2024-01-15T20:41:42.490428Z",
     "start_time": "2024-01-15T20:41:40.926553Z"
    }
   },
   "id": "6dd618f85a19419b",
   "execution_count": 233
  },
  {
   "cell_type": "code",
   "outputs": [
    {
     "name": "stdout",
     "output_type": "stream",
     "text": [
      "Total registrations: 749,971\n",
      "Total renewals: 326,754\n"
     ]
    }
   ],
   "source": [
    "print(f\"Total registrations: {len(reg):,}\")\n",
    "print(f\"Total renewals: {len(ren):,}\")\n"
   ],
   "metadata": {
    "collapsed": false,
    "ExecuteTime": {
     "end_time": "2024-01-15T20:41:42.491726Z",
     "start_time": "2024-01-15T20:41:42.487925Z"
    }
   },
   "id": "d443d399dacae5fd",
   "execution_count": 234
  },
  {
   "cell_type": "code",
   "outputs": [
    {
     "name": "stdout",
     "output_type": "stream",
     "text": [
      "Total Matched: 124,454\n",
      "% registrations matched: 16.59%\n",
      "% Renewals Matched: 38.09%\n",
      "Renewals Remaining: 202,300\n",
      "Registrations Remaining: 625,517\n"
     ]
    }
   ],
   "source": [
    "# match all rows with registration date AND registration number\n",
    "mask = reg.set_index(['date', \"regnum\"]).index.isin(ren.set_index(['date', \"regnum\"]).index)\n",
    "df1_filtered = reg[~mask]\n",
    "print(f\"Total Matched: {(total_matched := len(reg) - len(df1_filtered)):,}\")\n",
    "print(f\"% registrations matched: {(percentage_matched := (total_matched / len(reg)) * 100):.2f}%\")\n",
    "print(f\"% Renewals Matched: {(percentage_renewals_matched := (total_matched / len(ren)) * 100):.2f}%\")\n",
    "print(f\"Renewals Remaining: {(renewals_remaining := len(ren) - total_matched):,}\")\n",
    "print(f\"Registrations Remaining: {len(reg) - total_matched:,}\")"
   ],
   "metadata": {
    "collapsed": false,
    "ExecuteTime": {
     "end_time": "2024-01-15T20:41:43.910365Z",
     "start_time": "2024-01-15T20:41:42.632718Z"
    }
   },
   "id": "430984b798f6f437",
   "execution_count": 236
  },
  {
   "cell_type": "code",
   "outputs": [
    {
     "data": {
      "text/plain": "<Figure size 640x480 with 1 Axes>",
      "image/png": "[encoded data removed]"
     },
     "metadata": {},
     "output_type": "display_data"
    }
   ],
   "source": [
    "# Filter the data to include only years from 1922 to 1964\n",
    "reg['_year'] = pd.to_datetime(reg['date']).dt.year\n",
    "ren['_year'] = pd.to_datetime(ren['date']).dt.year\n",
    "\n",
    "reg_filtered = reg[reg['_year'].between(1922, 1964)]\n",
    "ren_filtered = ren[ren['_year'].between(1922, 1964)]\n",
    "\n",
    "# Group by year and count\n",
    "reg_counts = reg_filtered.groupby('_year').size()\n",
    "ren_counts = ren_filtered.groupby('_year').size()\n",
    "\n",
    "# Merge the two series into a DataFrame\n",
    "yearly_data = pd.DataFrame({'Registrations': reg_counts, 'Renewals': ren_counts}).fillna(0)\n",
    "\n",
    "# Plotting the stacked bar chart\n",
    "yearly_data.plot(kind='bar', stacked=True)\n",
    "plt.xlabel('Year')\n",
    "plt.ylabel('Count')\n",
    "plt.title('Total Registrations and Renewals by Year (1922 - 1964)')\n",
    "\n",
    "# Apply tight layout\n",
    "plt.tight_layout()\n",
    "\n",
    "# Show the plot\n",
    "plt.show()"
   ],
   "metadata": {
    "collapsed": false,
    "ExecuteTime": {
     "end_time": "2024-01-15T20:41:44.342754Z",
     "start_time": "2024-01-15T20:41:43.917764Z"
    }
   },
   "id": "e10b7af2f626c17b",
   "execution_count": 237
  },
  {
   "cell_type": "code",
   "outputs": [
    {
     "name": "stderr",
     "output_type": "stream",
     "text": [
      "/var/folders/jk/7srv9d5d0wvcbz8z_t3yjz_m0000gn/T/ipykernel_98199/3358614475.py:6: SettingWithCopyWarning: \n",
      "A value is trying to be set on a copy of a slice from a DataFrame.\n",
      "Try using .loc[row_indexer,col_indexer] = value instead\n",
      "\n",
      "See the caveats in the documentation: https://pandas.pydata.org/pandas-docs/stable/user_guide/indexing.html#returning-a-view-versus-a-copy\n",
      "  unmatched_renewals['date'] = pd.to_datetime(unmatched_renewals['date'])\n",
      "/var/folders/jk/7srv9d5d0wvcbz8z_t3yjz_m0000gn/T/ipykernel_98199/3358614475.py:8: SettingWithCopyWarning: \n",
      "A value is trying to be set on a copy of a slice from a DataFrame.\n",
      "Try using .loc[row_indexer,col_indexer] = value instead\n",
      "\n",
      "See the caveats in the documentation: https://pandas.pydata.org/pandas-docs/stable/user_guide/indexing.html#returning-a-view-versus-a-copy\n",
      "  unmatched_renewals['year'] = unmatched_renewals['date'].dt.year\n"
     ]
    },
    {
     "data": {
      "text/plain": "Text(0.5, 1.0, 'Unmatched Renewals by Registration date (1922 - 1964)')"
     },
     "execution_count": 238,
     "metadata": {},
     "output_type": "execute_result"
    },
    {
     "data": {
      "text/plain": "<Figure size 640x480 with 1 Axes>",
      "image/png": "[encoded data removed]"
     },
     "metadata": {},
     "output_type": "display_data"
    }
   ],
   "source": [
    "# Create a mask for 'ren'\n",
    "mask_ren = ren.set_index(['date', \"regnum\"]).index.isin(reg.set_index(['date', \"regnum\"]).index)\n",
    "# Filtering unmatched renewals in 'ren'\n",
    "unmatched_renewals = ren[~mask_ren]\n",
    "# Ensure 'date' is a datetime object\n",
    "unmatched_renewals['date'] = pd.to_datetime(unmatched_renewals['date'])\n",
    "# Extracting year\n",
    "unmatched_renewals['year'] = unmatched_renewals['date'].dt.year\n",
    "# Filtering for years between 1922 and 1964\n",
    "unmatched_renewals_filtered = unmatched_renewals[unmatched_renewals['year'].between(1922, 1964)]\n",
    "# Group by year and count\n",
    "unmatched_renewals_by_year = unmatched_renewals_filtered.groupby('year').size()\n",
    "# Plotting\n",
    "unmatched_renewals_by_year.plot(kind='bar')\n",
    "plt.title('Unmatched Renewals by Registration date (1922 - 1964)')\n"
   ],
   "metadata": {
    "collapsed": false,
    "ExecuteTime": {
     "end_time": "2024-01-15T20:41:45.647447Z",
     "start_time": "2024-01-15T20:41:44.340370Z"
    }
   },
   "id": "858e65610791263c",
   "execution_count": 238
  }
 ],
 "metadata": {
  "kernelspec": {
   "display_name": "Python 3",
   "language": "python",
   "name": "python3"
  },
  "language_info": {
   "codemirror_mode": {
    "name": "ipython",
    "version": 2
   },
   "file_extension": ".py",
   "mimetype": "text/x-python",
   "name": "python",
   "nbconvert_exporter": "python",
   "pygments_lexer": "ipython2",
   "version": "2.7.6"
  }
 },
 "nbformat": 4,
 "nbformat_minor": 5
}
